{
 "cells": [
  {
   "cell_type": "code",
   "execution_count": null,
   "metadata": {
    "colab": {
     "base_uri": "https://localhost:8080/"
    },
    "executionInfo": {
     "elapsed": 14957,
     "status": "ok",
     "timestamp": 1740807396793,
     "user": {
      "displayName": "srinivas k",
      "userId": "08764004841069848509"
     },
     "user_tz": -330
    },
    "id": "ufPnmefb_9_2",
    "outputId": "564f8c28-8ce4-465f-9e69-e40482da3b8c"
   },
   "outputs": [
    {
     "name": "stdout",
     "output_type": "stream",
     "text": [
      "Drive already mounted at /content/drive/; to attempt to forcibly remount, call drive.mount(\"/content/drive/\", force_remount=True).\n"
     ]
    }
   ],
   "source": [
    "#Only run to mount google drive\n",
    "#from google.colab import drive\n",
    "#drive.mount('/content/drive/')"
   ]
  },
  {
   "cell_type": "code",
   "execution_count": null,
   "metadata": {
    "colab": {
     "base_uri": "https://localhost:8080/"
    },
    "executionInfo": {
     "elapsed": 22,
     "status": "ok",
     "timestamp": 1740821837716,
     "user": {
      "displayName": "srinivas k",
      "userId": "08764004841069848509"
     },
     "user_tz": -330
    },
    "id": "idMYoiL3VDX4",
    "outputId": "77a39a3c-84ae-4101-87c7-187e3ac51a19"
   },
   "outputs": [
    {
     "name": "stderr",
     "output_type": "stream",
     "text": [
      "DEBUG:root:test\n",
      "INFO:root:junk\n"
     ]
    }
   ],
   "source": [
    "#####https://www.analyticsvidhya.com/blog/2024/10/langgraph-react-function-calling/\n",
    "import logging\n",
    "logger = logging.getLogger()\n",
    "logger.setLevel(logging.DEBUG) #logging.INFO\n",
    "logging.debug(\"test\")\n",
    "logging.info('test2')"
   ]
  },
  {
   "cell_type": "code",
   "execution_count": 1,
   "metadata": {
    "colab": {
     "base_uri": "https://localhost:8080/"
    },
    "executionInfo": {
     "elapsed": 35714,
     "status": "ok",
     "timestamp": 1740821873436,
     "user": {
      "displayName": "srinivas k",
      "userId": "08764004841069848509"
     },
     "user_tz": -330
    },
    "id": "XfbMBCRI-4Es",
    "outputId": "1c5d5863-e699-4977-fee3-4d89ef70dd09"
   },
   "outputs": [
    {
     "name": "stdout",
     "output_type": "stream",
     "text": [
      "Requirement already satisfied: duckduckgo-search in /Users/apple/learning/code/lib/python3.12/site-packages (7.3.2)\n",
      "Requirement already satisfied: click>=8.1.8 in /Users/apple/learning/code/lib/python3.12/site-packages (from duckduckgo-search) (8.1.8)\n",
      "Requirement already satisfied: primp>=0.11.0 in /Users/apple/learning/code/lib/python3.12/site-packages (from duckduckgo-search) (0.14.0)\n",
      "Requirement already satisfied: lxml>=5.3.0 in /Users/apple/learning/code/lib/python3.12/site-packages (from duckduckgo-search) (5.3.1)\n",
      "Requirement already satisfied: langchain-community in /Users/apple/learning/code/lib/python3.12/site-packages (0.3.18)\n",
      "Requirement already satisfied: langchain-core<1.0.0,>=0.3.37 in /Users/apple/learning/code/lib/python3.12/site-packages (from langchain-community) (0.3.49)\n",
      "Requirement already satisfied: langchain<1.0.0,>=0.3.19 in /Users/apple/learning/code/lib/python3.12/site-packages (from langchain-community) (0.3.19)\n",
      "Requirement already satisfied: SQLAlchemy<3,>=1.4 in /Users/apple/learning/code/lib/python3.12/site-packages (from langchain-community) (2.0.38)\n",
      "Requirement already satisfied: requests<3,>=2 in /Users/apple/learning/code/lib/python3.12/site-packages (from langchain-community) (2.32.3)\n",
      "Requirement already satisfied: PyYAML>=5.3 in /Users/apple/learning/code/lib/python3.12/site-packages (from langchain-community) (6.0.2)\n",
      "Requirement already satisfied: aiohttp<4.0.0,>=3.8.3 in /Users/apple/learning/code/lib/python3.12/site-packages (from langchain-community) (3.11.11)\n",
      "Requirement already satisfied: tenacity!=8.4.0,<10,>=8.1.0 in /Users/apple/learning/code/lib/python3.12/site-packages (from langchain-community) (9.0.0)\n",
      "Requirement already satisfied: dataclasses-json<0.7,>=0.5.7 in /Users/apple/learning/code/lib/python3.12/site-packages (from langchain-community) (0.6.7)\n",
      "Requirement already satisfied: pydantic-settings<3.0.0,>=2.4.0 in /Users/apple/learning/code/lib/python3.12/site-packages (from langchain-community) (2.8.1)\n",
      "Requirement already satisfied: langsmith<0.4,>=0.1.125 in /Users/apple/learning/code/lib/python3.12/site-packages (from langchain-community) (0.3.19)\n",
      "Requirement already satisfied: httpx-sse<1.0.0,>=0.4.0 in /Users/apple/learning/code/lib/python3.12/site-packages (from langchain-community) (0.4.0)\n",
      "Requirement already satisfied: numpy<3,>=1.26.2 in /Users/apple/learning/code/lib/python3.12/site-packages (from langchain-community) (1.26.4)\n",
      "Requirement already satisfied: aiohappyeyeballs>=2.3.0 in /Users/apple/learning/code/lib/python3.12/site-packages (from aiohttp<4.0.0,>=3.8.3->langchain-community) (2.6.1)\n",
      "Requirement already satisfied: aiosignal>=1.1.2 in /Users/apple/learning/code/lib/python3.12/site-packages (from aiohttp<4.0.0,>=3.8.3->langchain-community) (1.3.2)\n",
      "Requirement already satisfied: attrs>=17.3.0 in /Users/apple/learning/code/lib/python3.12/site-packages (from aiohttp<4.0.0,>=3.8.3->langchain-community) (25.3.0)\n",
      "Requirement already satisfied: frozenlist>=1.1.1 in /Users/apple/learning/code/lib/python3.12/site-packages (from aiohttp<4.0.0,>=3.8.3->langchain-community) (1.5.0)\n",
      "Requirement already satisfied: multidict<7.0,>=4.5 in /Users/apple/learning/code/lib/python3.12/site-packages (from aiohttp<4.0.0,>=3.8.3->langchain-community) (6.2.0)\n",
      "Requirement already satisfied: propcache>=0.2.0 in /Users/apple/learning/code/lib/python3.12/site-packages (from aiohttp<4.0.0,>=3.8.3->langchain-community) (0.3.1)\n",
      "Requirement already satisfied: yarl<2.0,>=1.17.0 in /Users/apple/learning/code/lib/python3.12/site-packages (from aiohttp<4.0.0,>=3.8.3->langchain-community) (1.18.3)\n",
      "Requirement already satisfied: marshmallow<4.0.0,>=3.18.0 in /Users/apple/learning/code/lib/python3.12/site-packages (from dataclasses-json<0.7,>=0.5.7->langchain-community) (3.26.1)\n",
      "Requirement already satisfied: typing-inspect<1,>=0.4.0 in /Users/apple/learning/code/lib/python3.12/site-packages (from dataclasses-json<0.7,>=0.5.7->langchain-community) (0.9.0)\n",
      "Requirement already satisfied: langchain-text-splitters<1.0.0,>=0.3.6 in /Users/apple/learning/code/lib/python3.12/site-packages (from langchain<1.0.0,>=0.3.19->langchain-community) (0.3.7)\n",
      "Requirement already satisfied: pydantic<3.0.0,>=2.7.4 in /Users/apple/learning/code/lib/python3.12/site-packages (from langchain<1.0.0,>=0.3.19->langchain-community) (2.10.6)\n",
      "Requirement already satisfied: jsonpatch<2.0,>=1.33 in /Users/apple/learning/code/lib/python3.12/site-packages (from langchain-core<1.0.0,>=0.3.37->langchain-community) (1.33)\n",
      "Requirement already satisfied: packaging<25,>=23.2 in /Users/apple/learning/code/lib/python3.12/site-packages (from langchain-core<1.0.0,>=0.3.37->langchain-community) (23.2)\n",
      "Requirement already satisfied: typing-extensions>=4.7 in /Users/apple/learning/code/lib/python3.12/site-packages (from langchain-core<1.0.0,>=0.3.37->langchain-community) (4.13.0)\n",
      "Requirement already satisfied: httpx<1,>=0.23.0 in /Users/apple/learning/code/lib/python3.12/site-packages (from langsmith<0.4,>=0.1.125->langchain-community) (0.28.1)\n",
      "Requirement already satisfied: orjson<4.0.0,>=3.9.14 in /Users/apple/learning/code/lib/python3.12/site-packages (from langsmith<0.4,>=0.1.125->langchain-community) (3.10.16)\n",
      "Requirement already satisfied: requests-toolbelt<2.0.0,>=1.0.0 in /Users/apple/learning/code/lib/python3.12/site-packages (from langsmith<0.4,>=0.1.125->langchain-community) (1.0.0)\n",
      "Requirement already satisfied: zstandard<0.24.0,>=0.23.0 in /Users/apple/learning/code/lib/python3.12/site-packages (from langsmith<0.4,>=0.1.125->langchain-community) (0.23.0)\n",
      "Requirement already satisfied: python-dotenv>=0.21.0 in /Users/apple/learning/code/lib/python3.12/site-packages (from pydantic-settings<3.0.0,>=2.4.0->langchain-community) (1.1.0)\n",
      "Requirement already satisfied: charset-normalizer<4,>=2 in /Users/apple/learning/code/lib/python3.12/site-packages (from requests<3,>=2->langchain-community) (3.4.1)\n",
      "Requirement already satisfied: idna<4,>=2.5 in /Users/apple/learning/code/lib/python3.12/site-packages (from requests<3,>=2->langchain-community) (3.10)\n",
      "Requirement already satisfied: urllib3<3,>=1.21.1 in /Users/apple/learning/code/lib/python3.12/site-packages (from requests<3,>=2->langchain-community) (2.3.0)\n",
      "Requirement already satisfied: certifi>=2017.4.17 in /Users/apple/learning/code/lib/python3.12/site-packages (from requests<3,>=2->langchain-community) (2025.1.31)\n",
      "Requirement already satisfied: anyio in /Users/apple/learning/code/lib/python3.12/site-packages (from httpx<1,>=0.23.0->langsmith<0.4,>=0.1.125->langchain-community) (4.9.0)\n",
      "Requirement already satisfied: httpcore==1.* in /Users/apple/learning/code/lib/python3.12/site-packages (from httpx<1,>=0.23.0->langsmith<0.4,>=0.1.125->langchain-community) (1.0.7)\n",
      "Requirement already satisfied: h11<0.15,>=0.13 in /Users/apple/learning/code/lib/python3.12/site-packages (from httpcore==1.*->httpx<1,>=0.23.0->langsmith<0.4,>=0.1.125->langchain-community) (0.14.0)\n",
      "Requirement already satisfied: jsonpointer>=1.9 in /Users/apple/learning/code/lib/python3.12/site-packages (from jsonpatch<2.0,>=1.33->langchain-core<1.0.0,>=0.3.37->langchain-community) (3.0.0)\n",
      "Requirement already satisfied: annotated-types>=0.6.0 in /Users/apple/learning/code/lib/python3.12/site-packages (from pydantic<3.0.0,>=2.7.4->langchain<1.0.0,>=0.3.19->langchain-community) (0.7.0)\n",
      "Requirement already satisfied: pydantic-core==2.27.2 in /Users/apple/learning/code/lib/python3.12/site-packages (from pydantic<3.0.0,>=2.7.4->langchain<1.0.0,>=0.3.19->langchain-community) (2.27.2)\n",
      "Requirement already satisfied: mypy-extensions>=0.3.0 in /Users/apple/learning/code/lib/python3.12/site-packages (from typing-inspect<1,>=0.4.0->dataclasses-json<0.7,>=0.5.7->langchain-community) (1.0.0)\n",
      "Requirement already satisfied: sniffio>=1.1 in /Users/apple/learning/code/lib/python3.12/site-packages (from anyio->httpx<1,>=0.23.0->langsmith<0.4,>=0.1.125->langchain-community) (1.3.1)\n",
      "Requirement already satisfied: langchain-experimental in /Users/apple/learning/code/lib/python3.12/site-packages (0.3.4)\n",
      "Requirement already satisfied: langchain-community<0.4.0,>=0.3.0 in /Users/apple/learning/code/lib/python3.12/site-packages (from langchain-experimental) (0.3.18)\n",
      "Requirement already satisfied: langchain-core<0.4.0,>=0.3.28 in /Users/apple/learning/code/lib/python3.12/site-packages (from langchain-experimental) (0.3.49)\n",
      "Requirement already satisfied: langchain<1.0.0,>=0.3.19 in /Users/apple/learning/code/lib/python3.12/site-packages (from langchain-community<0.4.0,>=0.3.0->langchain-experimental) (0.3.19)\n",
      "Requirement already satisfied: SQLAlchemy<3,>=1.4 in /Users/apple/learning/code/lib/python3.12/site-packages (from langchain-community<0.4.0,>=0.3.0->langchain-experimental) (2.0.38)\n",
      "Requirement already satisfied: requests<3,>=2 in /Users/apple/learning/code/lib/python3.12/site-packages (from langchain-community<0.4.0,>=0.3.0->langchain-experimental) (2.32.3)\n",
      "Requirement already satisfied: PyYAML>=5.3 in /Users/apple/learning/code/lib/python3.12/site-packages (from langchain-community<0.4.0,>=0.3.0->langchain-experimental) (6.0.2)\n",
      "Requirement already satisfied: aiohttp<4.0.0,>=3.8.3 in /Users/apple/learning/code/lib/python3.12/site-packages (from langchain-community<0.4.0,>=0.3.0->langchain-experimental) (3.11.11)\n",
      "Requirement already satisfied: tenacity!=8.4.0,<10,>=8.1.0 in /Users/apple/learning/code/lib/python3.12/site-packages (from langchain-community<0.4.0,>=0.3.0->langchain-experimental) (9.0.0)\n",
      "Requirement already satisfied: dataclasses-json<0.7,>=0.5.7 in /Users/apple/learning/code/lib/python3.12/site-packages (from langchain-community<0.4.0,>=0.3.0->langchain-experimental) (0.6.7)\n",
      "Requirement already satisfied: pydantic-settings<3.0.0,>=2.4.0 in /Users/apple/learning/code/lib/python3.12/site-packages (from langchain-community<0.4.0,>=0.3.0->langchain-experimental) (2.8.1)\n",
      "Requirement already satisfied: langsmith<0.4,>=0.1.125 in /Users/apple/learning/code/lib/python3.12/site-packages (from langchain-community<0.4.0,>=0.3.0->langchain-experimental) (0.3.19)\n",
      "Requirement already satisfied: httpx-sse<1.0.0,>=0.4.0 in /Users/apple/learning/code/lib/python3.12/site-packages (from langchain-community<0.4.0,>=0.3.0->langchain-experimental) (0.4.0)\n",
      "Requirement already satisfied: numpy<3,>=1.26.2 in /Users/apple/learning/code/lib/python3.12/site-packages (from langchain-community<0.4.0,>=0.3.0->langchain-experimental) (1.26.4)\n",
      "Requirement already satisfied: jsonpatch<2.0,>=1.33 in /Users/apple/learning/code/lib/python3.12/site-packages (from langchain-core<0.4.0,>=0.3.28->langchain-experimental) (1.33)\n",
      "Requirement already satisfied: packaging<25,>=23.2 in /Users/apple/learning/code/lib/python3.12/site-packages (from langchain-core<0.4.0,>=0.3.28->langchain-experimental) (23.2)\n",
      "Requirement already satisfied: typing-extensions>=4.7 in /Users/apple/learning/code/lib/python3.12/site-packages (from langchain-core<0.4.0,>=0.3.28->langchain-experimental) (4.13.0)\n",
      "Requirement already satisfied: pydantic<3.0.0,>=2.7.4 in /Users/apple/learning/code/lib/python3.12/site-packages (from langchain-core<0.4.0,>=0.3.28->langchain-experimental) (2.10.6)\n",
      "Requirement already satisfied: aiohappyeyeballs>=2.3.0 in /Users/apple/learning/code/lib/python3.12/site-packages (from aiohttp<4.0.0,>=3.8.3->langchain-community<0.4.0,>=0.3.0->langchain-experimental) (2.6.1)\n",
      "Requirement already satisfied: aiosignal>=1.1.2 in /Users/apple/learning/code/lib/python3.12/site-packages (from aiohttp<4.0.0,>=3.8.3->langchain-community<0.4.0,>=0.3.0->langchain-experimental) (1.3.2)\n",
      "Requirement already satisfied: attrs>=17.3.0 in /Users/apple/learning/code/lib/python3.12/site-packages (from aiohttp<4.0.0,>=3.8.3->langchain-community<0.4.0,>=0.3.0->langchain-experimental) (25.3.0)\n",
      "Requirement already satisfied: frozenlist>=1.1.1 in /Users/apple/learning/code/lib/python3.12/site-packages (from aiohttp<4.0.0,>=3.8.3->langchain-community<0.4.0,>=0.3.0->langchain-experimental) (1.5.0)\n",
      "Requirement already satisfied: multidict<7.0,>=4.5 in /Users/apple/learning/code/lib/python3.12/site-packages (from aiohttp<4.0.0,>=3.8.3->langchain-community<0.4.0,>=0.3.0->langchain-experimental) (6.2.0)\n",
      "Requirement already satisfied: propcache>=0.2.0 in /Users/apple/learning/code/lib/python3.12/site-packages (from aiohttp<4.0.0,>=3.8.3->langchain-community<0.4.0,>=0.3.0->langchain-experimental) (0.3.1)\n",
      "Requirement already satisfied: yarl<2.0,>=1.17.0 in /Users/apple/learning/code/lib/python3.12/site-packages (from aiohttp<4.0.0,>=3.8.3->langchain-community<0.4.0,>=0.3.0->langchain-experimental) (1.18.3)\n",
      "Requirement already satisfied: marshmallow<4.0.0,>=3.18.0 in /Users/apple/learning/code/lib/python3.12/site-packages (from dataclasses-json<0.7,>=0.5.7->langchain-community<0.4.0,>=0.3.0->langchain-experimental) (3.26.1)\n",
      "Requirement already satisfied: typing-inspect<1,>=0.4.0 in /Users/apple/learning/code/lib/python3.12/site-packages (from dataclasses-json<0.7,>=0.5.7->langchain-community<0.4.0,>=0.3.0->langchain-experimental) (0.9.0)\n",
      "Requirement already satisfied: jsonpointer>=1.9 in /Users/apple/learning/code/lib/python3.12/site-packages (from jsonpatch<2.0,>=1.33->langchain-core<0.4.0,>=0.3.28->langchain-experimental) (3.0.0)\n",
      "Requirement already satisfied: langchain-text-splitters<1.0.0,>=0.3.6 in /Users/apple/learning/code/lib/python3.12/site-packages (from langchain<1.0.0,>=0.3.19->langchain-community<0.4.0,>=0.3.0->langchain-experimental) (0.3.7)\n",
      "Requirement already satisfied: httpx<1,>=0.23.0 in /Users/apple/learning/code/lib/python3.12/site-packages (from langsmith<0.4,>=0.1.125->langchain-community<0.4.0,>=0.3.0->langchain-experimental) (0.28.1)\n",
      "Requirement already satisfied: orjson<4.0.0,>=3.9.14 in /Users/apple/learning/code/lib/python3.12/site-packages (from langsmith<0.4,>=0.1.125->langchain-community<0.4.0,>=0.3.0->langchain-experimental) (3.10.16)\n",
      "Requirement already satisfied: requests-toolbelt<2.0.0,>=1.0.0 in /Users/apple/learning/code/lib/python3.12/site-packages (from langsmith<0.4,>=0.1.125->langchain-community<0.4.0,>=0.3.0->langchain-experimental) (1.0.0)\n",
      "Requirement already satisfied: zstandard<0.24.0,>=0.23.0 in /Users/apple/learning/code/lib/python3.12/site-packages (from langsmith<0.4,>=0.1.125->langchain-community<0.4.0,>=0.3.0->langchain-experimental) (0.23.0)\n",
      "Requirement already satisfied: annotated-types>=0.6.0 in /Users/apple/learning/code/lib/python3.12/site-packages (from pydantic<3.0.0,>=2.7.4->langchain-core<0.4.0,>=0.3.28->langchain-experimental) (0.7.0)\n",
      "Requirement already satisfied: pydantic-core==2.27.2 in /Users/apple/learning/code/lib/python3.12/site-packages (from pydantic<3.0.0,>=2.7.4->langchain-core<0.4.0,>=0.3.28->langchain-experimental) (2.27.2)\n",
      "Requirement already satisfied: python-dotenv>=0.21.0 in /Users/apple/learning/code/lib/python3.12/site-packages (from pydantic-settings<3.0.0,>=2.4.0->langchain-community<0.4.0,>=0.3.0->langchain-experimental) (1.1.0)\n",
      "Requirement already satisfied: charset-normalizer<4,>=2 in /Users/apple/learning/code/lib/python3.12/site-packages (from requests<3,>=2->langchain-community<0.4.0,>=0.3.0->langchain-experimental) (3.4.1)\n",
      "Requirement already satisfied: idna<4,>=2.5 in /Users/apple/learning/code/lib/python3.12/site-packages (from requests<3,>=2->langchain-community<0.4.0,>=0.3.0->langchain-experimental) (3.10)\n",
      "Requirement already satisfied: urllib3<3,>=1.21.1 in /Users/apple/learning/code/lib/python3.12/site-packages (from requests<3,>=2->langchain-community<0.4.0,>=0.3.0->langchain-experimental) (2.3.0)\n",
      "Requirement already satisfied: certifi>=2017.4.17 in /Users/apple/learning/code/lib/python3.12/site-packages (from requests<3,>=2->langchain-community<0.4.0,>=0.3.0->langchain-experimental) (2025.1.31)\n",
      "Requirement already satisfied: anyio in /Users/apple/learning/code/lib/python3.12/site-packages (from httpx<1,>=0.23.0->langsmith<0.4,>=0.1.125->langchain-community<0.4.0,>=0.3.0->langchain-experimental) (4.9.0)\n",
      "Requirement already satisfied: httpcore==1.* in /Users/apple/learning/code/lib/python3.12/site-packages (from httpx<1,>=0.23.0->langsmith<0.4,>=0.1.125->langchain-community<0.4.0,>=0.3.0->langchain-experimental) (1.0.7)\n",
      "Requirement already satisfied: h11<0.15,>=0.13 in /Users/apple/learning/code/lib/python3.12/site-packages (from httpcore==1.*->httpx<1,>=0.23.0->langsmith<0.4,>=0.1.125->langchain-community<0.4.0,>=0.3.0->langchain-experimental) (0.14.0)\n",
      "Requirement already satisfied: mypy-extensions>=0.3.0 in /Users/apple/learning/code/lib/python3.12/site-packages (from typing-inspect<1,>=0.4.0->dataclasses-json<0.7,>=0.5.7->langchain-community<0.4.0,>=0.3.0->langchain-experimental) (1.0.0)\n",
      "Requirement already satisfied: sniffio>=1.1 in /Users/apple/learning/code/lib/python3.12/site-packages (from anyio->httpx<1,>=0.23.0->langsmith<0.4,>=0.1.125->langchain-community<0.4.0,>=0.3.0->langchain-experimental) (1.3.1)\n",
      "Requirement already satisfied: langchain-openai in /Users/apple/learning/code/lib/python3.12/site-packages (0.3.11)\n",
      "Requirement already satisfied: langchain-core<1.0.0,>=0.3.49 in /Users/apple/learning/code/lib/python3.12/site-packages (from langchain-openai) (0.3.49)\n",
      "Requirement already satisfied: openai<2.0.0,>=1.68.2 in /Users/apple/learning/code/lib/python3.12/site-packages (from langchain-openai) (1.68.2)\n",
      "Requirement already satisfied: tiktoken<1,>=0.7 in /Users/apple/learning/code/lib/python3.12/site-packages (from langchain-openai) (0.9.0)\n",
      "Requirement already satisfied: langsmith<0.4,>=0.1.125 in /Users/apple/learning/code/lib/python3.12/site-packages (from langchain-core<1.0.0,>=0.3.49->langchain-openai) (0.3.19)\n",
      "Requirement already satisfied: tenacity!=8.4.0,<10.0.0,>=8.1.0 in /Users/apple/learning/code/lib/python3.12/site-packages (from langchain-core<1.0.0,>=0.3.49->langchain-openai) (9.0.0)\n",
      "Requirement already satisfied: jsonpatch<2.0,>=1.33 in /Users/apple/learning/code/lib/python3.12/site-packages (from langchain-core<1.0.0,>=0.3.49->langchain-openai) (1.33)\n",
      "Requirement already satisfied: PyYAML>=5.3 in /Users/apple/learning/code/lib/python3.12/site-packages (from langchain-core<1.0.0,>=0.3.49->langchain-openai) (6.0.2)\n",
      "Requirement already satisfied: packaging<25,>=23.2 in /Users/apple/learning/code/lib/python3.12/site-packages (from langchain-core<1.0.0,>=0.3.49->langchain-openai) (23.2)\n",
      "Requirement already satisfied: typing-extensions>=4.7 in /Users/apple/learning/code/lib/python3.12/site-packages (from langchain-core<1.0.0,>=0.3.49->langchain-openai) (4.13.0)\n",
      "Requirement already satisfied: pydantic<3.0.0,>=2.7.4 in /Users/apple/learning/code/lib/python3.12/site-packages (from langchain-core<1.0.0,>=0.3.49->langchain-openai) (2.10.6)\n",
      "Requirement already satisfied: anyio<5,>=3.5.0 in /Users/apple/learning/code/lib/python3.12/site-packages (from openai<2.0.0,>=1.68.2->langchain-openai) (4.9.0)\n",
      "Requirement already satisfied: distro<2,>=1.7.0 in /Users/apple/learning/code/lib/python3.12/site-packages (from openai<2.0.0,>=1.68.2->langchain-openai) (1.9.0)\n",
      "Requirement already satisfied: httpx<1,>=0.23.0 in /Users/apple/learning/code/lib/python3.12/site-packages (from openai<2.0.0,>=1.68.2->langchain-openai) (0.28.1)\n",
      "Requirement already satisfied: jiter<1,>=0.4.0 in /Users/apple/learning/code/lib/python3.12/site-packages (from openai<2.0.0,>=1.68.2->langchain-openai) (0.9.0)\n",
      "Requirement already satisfied: sniffio in /Users/apple/learning/code/lib/python3.12/site-packages (from openai<2.0.0,>=1.68.2->langchain-openai) (1.3.1)\n",
      "Requirement already satisfied: tqdm>4 in /Users/apple/learning/code/lib/python3.12/site-packages (from openai<2.0.0,>=1.68.2->langchain-openai) (4.67.1)\n",
      "Requirement already satisfied: regex>=2022.1.18 in /Users/apple/learning/code/lib/python3.12/site-packages (from tiktoken<1,>=0.7->langchain-openai) (2024.11.6)\n",
      "Requirement already satisfied: requests>=2.26.0 in /Users/apple/learning/code/lib/python3.12/site-packages (from tiktoken<1,>=0.7->langchain-openai) (2.32.3)\n",
      "Requirement already satisfied: idna>=2.8 in /Users/apple/learning/code/lib/python3.12/site-packages (from anyio<5,>=3.5.0->openai<2.0.0,>=1.68.2->langchain-openai) (3.10)\n",
      "Requirement already satisfied: certifi in /Users/apple/learning/code/lib/python3.12/site-packages (from httpx<1,>=0.23.0->openai<2.0.0,>=1.68.2->langchain-openai) (2025.1.31)\n",
      "Requirement already satisfied: httpcore==1.* in /Users/apple/learning/code/lib/python3.12/site-packages (from httpx<1,>=0.23.0->openai<2.0.0,>=1.68.2->langchain-openai) (1.0.7)\n",
      "Requirement already satisfied: h11<0.15,>=0.13 in /Users/apple/learning/code/lib/python3.12/site-packages (from httpcore==1.*->httpx<1,>=0.23.0->openai<2.0.0,>=1.68.2->langchain-openai) (0.14.0)\n",
      "Requirement already satisfied: jsonpointer>=1.9 in /Users/apple/learning/code/lib/python3.12/site-packages (from jsonpatch<2.0,>=1.33->langchain-core<1.0.0,>=0.3.49->langchain-openai) (3.0.0)\n",
      "Requirement already satisfied: orjson<4.0.0,>=3.9.14 in /Users/apple/learning/code/lib/python3.12/site-packages (from langsmith<0.4,>=0.1.125->langchain-core<1.0.0,>=0.3.49->langchain-openai) (3.10.16)\n",
      "Requirement already satisfied: requests-toolbelt<2.0.0,>=1.0.0 in /Users/apple/learning/code/lib/python3.12/site-packages (from langsmith<0.4,>=0.1.125->langchain-core<1.0.0,>=0.3.49->langchain-openai) (1.0.0)\n",
      "Requirement already satisfied: zstandard<0.24.0,>=0.23.0 in /Users/apple/learning/code/lib/python3.12/site-packages (from langsmith<0.4,>=0.1.125->langchain-core<1.0.0,>=0.3.49->langchain-openai) (0.23.0)\n",
      "Requirement already satisfied: annotated-types>=0.6.0 in /Users/apple/learning/code/lib/python3.12/site-packages (from pydantic<3.0.0,>=2.7.4->langchain-core<1.0.0,>=0.3.49->langchain-openai) (0.7.0)\n",
      "Requirement already satisfied: pydantic-core==2.27.2 in /Users/apple/learning/code/lib/python3.12/site-packages (from pydantic<3.0.0,>=2.7.4->langchain-core<1.0.0,>=0.3.49->langchain-openai) (2.27.2)\n",
      "Requirement already satisfied: charset-normalizer<4,>=2 in /Users/apple/learning/code/lib/python3.12/site-packages (from requests>=2.26.0->tiktoken<1,>=0.7->langchain-openai) (3.4.1)\n",
      "Requirement already satisfied: urllib3<3,>=1.21.1 in /Users/apple/learning/code/lib/python3.12/site-packages (from requests>=2.26.0->tiktoken<1,>=0.7->langchain-openai) (2.3.0)\n",
      "Requirement already satisfied: langchainhub in /Users/apple/learning/code/lib/python3.12/site-packages (0.1.21)\n",
      "Requirement already satisfied: packaging<25,>=23.2 in /Users/apple/learning/code/lib/python3.12/site-packages (from langchainhub) (23.2)\n",
      "Requirement already satisfied: requests<3,>=2 in /Users/apple/learning/code/lib/python3.12/site-packages (from langchainhub) (2.32.3)\n",
      "Requirement already satisfied: types-requests<3.0.0.0,>=2.31.0.2 in /Users/apple/learning/code/lib/python3.12/site-packages (from langchainhub) (2.32.0.20250328)\n",
      "Requirement already satisfied: charset-normalizer<4,>=2 in /Users/apple/learning/code/lib/python3.12/site-packages (from requests<3,>=2->langchainhub) (3.4.1)\n",
      "Requirement already satisfied: idna<4,>=2.5 in /Users/apple/learning/code/lib/python3.12/site-packages (from requests<3,>=2->langchainhub) (3.10)\n",
      "Requirement already satisfied: urllib3<3,>=1.21.1 in /Users/apple/learning/code/lib/python3.12/site-packages (from requests<3,>=2->langchainhub) (2.3.0)\n",
      "Requirement already satisfied: certifi>=2017.4.17 in /Users/apple/learning/code/lib/python3.12/site-packages (from requests<3,>=2->langchainhub) (2025.1.31)\n",
      "Requirement already satisfied: langgraph in /Users/apple/learning/code/lib/python3.12/site-packages (0.3.21)\n",
      "Requirement already satisfied: langchain-core<0.4,>=0.1 in /Users/apple/learning/code/lib/python3.12/site-packages (from langgraph) (0.3.49)\n",
      "Requirement already satisfied: langgraph-checkpoint<3.0.0,>=2.0.10 in /Users/apple/learning/code/lib/python3.12/site-packages (from langgraph) (2.0.23)\n",
      "Requirement already satisfied: langgraph-prebuilt<0.2,>=0.1.1 in /Users/apple/learning/code/lib/python3.12/site-packages (from langgraph) (0.1.7)\n",
      "Requirement already satisfied: langgraph-sdk<0.2.0,>=0.1.42 in /Users/apple/learning/code/lib/python3.12/site-packages (from langgraph) (0.1.60)\n",
      "Requirement already satisfied: xxhash<4.0.0,>=3.5.0 in /Users/apple/learning/code/lib/python3.12/site-packages (from langgraph) (3.5.0)\n",
      "Requirement already satisfied: langsmith<0.4,>=0.1.125 in /Users/apple/learning/code/lib/python3.12/site-packages (from langchain-core<0.4,>=0.1->langgraph) (0.3.19)\n",
      "Requirement already satisfied: tenacity!=8.4.0,<10.0.0,>=8.1.0 in /Users/apple/learning/code/lib/python3.12/site-packages (from langchain-core<0.4,>=0.1->langgraph) (9.0.0)\n",
      "Requirement already satisfied: jsonpatch<2.0,>=1.33 in /Users/apple/learning/code/lib/python3.12/site-packages (from langchain-core<0.4,>=0.1->langgraph) (1.33)\n",
      "Requirement already satisfied: PyYAML>=5.3 in /Users/apple/learning/code/lib/python3.12/site-packages (from langchain-core<0.4,>=0.1->langgraph) (6.0.2)\n",
      "Requirement already satisfied: packaging<25,>=23.2 in /Users/apple/learning/code/lib/python3.12/site-packages (from langchain-core<0.4,>=0.1->langgraph) (23.2)\n",
      "Requirement already satisfied: typing-extensions>=4.7 in /Users/apple/learning/code/lib/python3.12/site-packages (from langchain-core<0.4,>=0.1->langgraph) (4.13.0)\n",
      "Requirement already satisfied: pydantic<3.0.0,>=2.7.4 in /Users/apple/learning/code/lib/python3.12/site-packages (from langchain-core<0.4,>=0.1->langgraph) (2.10.6)\n",
      "Requirement already satisfied: ormsgpack<2.0.0,>=1.8.0 in /Users/apple/learning/code/lib/python3.12/site-packages (from langgraph-checkpoint<3.0.0,>=2.0.10->langgraph) (1.9.0)\n",
      "Requirement already satisfied: httpx>=0.25.2 in /Users/apple/learning/code/lib/python3.12/site-packages (from langgraph-sdk<0.2.0,>=0.1.42->langgraph) (0.28.1)\n",
      "Requirement already satisfied: orjson>=3.10.1 in /Users/apple/learning/code/lib/python3.12/site-packages (from langgraph-sdk<0.2.0,>=0.1.42->langgraph) (3.10.16)\n",
      "Requirement already satisfied: anyio in /Users/apple/learning/code/lib/python3.12/site-packages (from httpx>=0.25.2->langgraph-sdk<0.2.0,>=0.1.42->langgraph) (4.9.0)\n",
      "Requirement already satisfied: certifi in /Users/apple/learning/code/lib/python3.12/site-packages (from httpx>=0.25.2->langgraph-sdk<0.2.0,>=0.1.42->langgraph) (2025.1.31)\n",
      "Requirement already satisfied: httpcore==1.* in /Users/apple/learning/code/lib/python3.12/site-packages (from httpx>=0.25.2->langgraph-sdk<0.2.0,>=0.1.42->langgraph) (1.0.7)\n",
      "Requirement already satisfied: idna in /Users/apple/learning/code/lib/python3.12/site-packages (from httpx>=0.25.2->langgraph-sdk<0.2.0,>=0.1.42->langgraph) (3.10)\n",
      "Requirement already satisfied: h11<0.15,>=0.13 in /Users/apple/learning/code/lib/python3.12/site-packages (from httpcore==1.*->httpx>=0.25.2->langgraph-sdk<0.2.0,>=0.1.42->langgraph) (0.14.0)\n",
      "Requirement already satisfied: jsonpointer>=1.9 in /Users/apple/learning/code/lib/python3.12/site-packages (from jsonpatch<2.0,>=1.33->langchain-core<0.4,>=0.1->langgraph) (3.0.0)\n",
      "Requirement already satisfied: requests<3,>=2 in /Users/apple/learning/code/lib/python3.12/site-packages (from langsmith<0.4,>=0.1.125->langchain-core<0.4,>=0.1->langgraph) (2.32.3)\n",
      "Requirement already satisfied: requests-toolbelt<2.0.0,>=1.0.0 in /Users/apple/learning/code/lib/python3.12/site-packages (from langsmith<0.4,>=0.1.125->langchain-core<0.4,>=0.1->langgraph) (1.0.0)\n",
      "Requirement already satisfied: zstandard<0.24.0,>=0.23.0 in /Users/apple/learning/code/lib/python3.12/site-packages (from langsmith<0.4,>=0.1.125->langchain-core<0.4,>=0.1->langgraph) (0.23.0)\n",
      "Requirement already satisfied: annotated-types>=0.6.0 in /Users/apple/learning/code/lib/python3.12/site-packages (from pydantic<3.0.0,>=2.7.4->langchain-core<0.4,>=0.1->langgraph) (0.7.0)\n",
      "Requirement already satisfied: pydantic-core==2.27.2 in /Users/apple/learning/code/lib/python3.12/site-packages (from pydantic<3.0.0,>=2.7.4->langchain-core<0.4,>=0.1->langgraph) (2.27.2)\n",
      "Requirement already satisfied: charset-normalizer<4,>=2 in /Users/apple/learning/code/lib/python3.12/site-packages (from requests<3,>=2->langsmith<0.4,>=0.1.125->langchain-core<0.4,>=0.1->langgraph) (3.4.1)\n",
      "Requirement already satisfied: urllib3<3,>=1.21.1 in /Users/apple/learning/code/lib/python3.12/site-packages (from requests<3,>=2->langsmith<0.4,>=0.1.125->langchain-core<0.4,>=0.1->langgraph) (2.3.0)\n",
      "Requirement already satisfied: sniffio>=1.1 in /Users/apple/learning/code/lib/python3.12/site-packages (from anyio->httpx>=0.25.2->langgraph-sdk<0.2.0,>=0.1.42->langgraph) (1.3.1)\n"
     ]
    }
   ],
   "source": [
    "!pip install duckduckgo-search\n",
    "!pip install langchain-community\n",
    "!pip install langchain-experimental\n",
    "!pip install langchain-openai\n",
    "!pip install langchainhub\n",
    "!pip install langgraph"
   ]
  },
  {
   "cell_type": "code",
   "execution_count": null,
   "metadata": {},
   "outputs": [],
   "source": [
    "import os\n",
    "from openai import OpenAI\n",
    "#0. Setting the OpenAI API key from google colab\n",
    "#from google.colab import userdata\n",
    "#os.environ['OPENAI_API_KEY'] = userdata.get('OPENAI_API_KEY')\n",
    "#1. GET your OpenAI API key from the OpenAI dashboard\n",
    "api_key = os.getenv(\"OPENAI_API_KEY\")\n",
    "#2. Create a new OpenAI instance\n",
    "#client = OpenAI(api_key=api_key)\n",
    "#3. Set the chat model\n",
    "chat_model=\"gpt-4o-mini\""
   ]
  },
  {
   "cell_type": "code",
   "execution_count": 4,
   "metadata": {
    "colab": {
     "base_uri": "https://localhost:8080/"
    },
    "executionInfo": {
     "elapsed": 440,
     "status": "ok",
     "timestamp": 1740821918500,
     "user": {
      "displayName": "srinivas k",
      "userId": "08764004841069848509"
     },
     "user_tz": -330
    },
    "id": "6Aedm37vETlq",
    "outputId": "1b7a8df6-71d1-4af1-dce5-3dc5918bd117"
   },
   "outputs": [
    {
     "name": "stderr",
     "output_type": "stream",
     "text": [
      "/var/folders/n1/8tcg96l117b4ttn71xlm_lc80000gn/T/ipykernel_91117/3243086294.py:17: PydanticDeprecatedSince20: Pydantic V1 style `@validator` validators are deprecated. You should migrate to Pydantic V2 style `@field_validator` validators, see the migration guide for more details. Deprecated in Pydantic V2.0 to be removed in V3.0. See Pydantic V2 Migration Guide at https://errors.pydantic.dev/2.10/migration/\n",
      "  @validator('year', pre=True, always=True)\n"
     ]
    }
   ],
   "source": [
    "##### Resume\n",
    "from typing import List, Optional\n",
    "from pydantic import BaseModel, Field, validator\n",
    "\n",
    "class WorkExperience(BaseModel):\n",
    "    job_title: str = Field(description=\"Job title or position.\")\n",
    "    company: str = Field(description=\"The company name.\")\n",
    "    experience: int = Field(description=\"Years of experience in the job.\")\n",
    "    responsibilities: List[str] = Field(description=\"List of responsibilities in the job.\")\n",
    "\n",
    "class Education(BaseModel):\n",
    "    degree: str = Field(description=\"Degree obtained.\")\n",
    "    school: str = Field(description=\"The university name.\")\n",
    "    major: str = Field(description=\"Major subject.\")\n",
    "    year: Optional[int] = Field(description=\"Year of graduation.\")\n",
    "\n",
    "    @validator('year', pre=True, always=True)\n",
    "    def set_year(cls, v):\n",
    "        if v is None:\n",
    "            return 0\n",
    "        return v\n",
    "\n",
    "class Resume(BaseModel):\n",
    "    \"\"\"Structured resume data.\"\"\"\n",
    "\n",
    "    name: str = Field(description=\"Name of the person\")\n",
    "    professional_summary: str = Field(description=\"Professional summary of the person.\")\n",
    "    work_experience: List[WorkExperience] = Field(description=\"List of work experiences held by the person.\")\n",
    "    education: List[Education] = Field(description=\"List of educational qualifications of the person.\")\n",
    "    skills: List[str] = Field(description=\"List of skills relevant to the jobs.\")\n",
    "\n",
    "    @classmethod\n",
    "    def mock(cls):\n",
    "        return cls(\n",
    "            name='Jeff',\n",
    "            professional_summary='Innovative software engineer with 8+ years of experience in the tech industry. Senior Developer at Company X, Freelance Software Architect, and Junior Developer at Company Y. Proficient in developing scalable applications, optimizing system performance, and leading cross-functional teams. Fluent in English and Spanish.',\n",
    "            work_experience=[\n",
    "                WorkExperience(\n",
    "                    job_title='Senior Developer',\n",
    "                    company='Company X',\n",
    "                    experience=5,\n",
    "                    responsibilities=[\n",
    "                        'Led the development of scalable web applications',\n",
    "                        'Optimized system performance and reduced server costs',\n",
    "                        'Mentored junior developers and conducted code reviews',\n",
    "                        'Collaborated with product managers to define project requirements',\n",
    "                        'Implemented CI/CD pipelines to streamline deployments',\n",
    "                        'Developed RESTful APIs for mobile and web applications',\n",
    "                        'Ensured application security and compliance with industry standards'\n",
    "                    ]\n",
    "                ),\n",
    "                WorkExperience(\n",
    "                    job_title='Freelance Software Architect',\n",
    "                    company='Independent Consultant',\n",
    "                    experience=2,\n",
    "                    responsibilities=[\n",
    "                        'Designed software architecture for various clients',\n",
    "                        'Provided technical consultancy and project management',\n",
    "                        'Developed custom software solutions to meet client needs',\n",
    "                        'Conducted system analysis and performance tuning',\n",
    "                        'Integrated third-party services and APIs',\n",
    "                        'Created technical documentation and user manuals'\n",
    "                    ]\n",
    "                ),\n",
    "                WorkExperience(\n",
    "                    job_title='Junior Developer',\n",
    "                    company='Company Y',\n",
    "                    experience=1,\n",
    "                    responsibilities=[\n",
    "                        'Assisted in the development of web applications',\n",
    "                        'Performed bug fixes and code maintenance',\n",
    "                        'Collaborated with senior developers on project tasks',\n",
    "                        'Participated in daily stand-ups and sprint planning',\n",
    "                        'Wrote unit tests to ensure code quality',\n",
    "                        'Contributed to open-source projects'\n",
    "                    ]\n",
    "                )\n",
    "            ],\n",
    "            education=[\n",
    "                Education(\n",
    "                    degree='B.Sc. Computer Science',\n",
    "                    school='X University',\n",
    "                    major='Computer Science',\n",
    "                    year=1999\n",
    "                )\n",
    "            ],\n",
    "            skills=[\n",
    "                'Software Architecture',\n",
    "                'System Optimization',\n",
    "                'Team Mentorship',\n",
    "                'Project Management',\n",
    "                'API Development',\n",
    "                'Continuous Integration/Continuous Deployment',\n",
    "                'Bilingual'\n",
    "            ]\n",
    "        )\n"
   ]
  },
  {
   "cell_type": "code",
   "execution_count": 5,
   "metadata": {
    "id": "KLJpTloCEpOP"
   },
   "outputs": [],
   "source": [
    "###Job or course data\n",
    "\n",
    "from typing import List, Optional\n",
    "from pydantic import BaseModel, Field\n",
    "\n",
    "class Job(BaseModel):\n",
    "    title: str = Field(description=\"Job title or position.\")\n",
    "    company: str = Field(description=\"The company name.\")\n",
    "    location: Optional[str] = Field(description=\"Location of the job.\")\n",
    "    salary: Optional[str] = Field(description=\"Salary range for the job.\")\n",
    "    description: str = Field(description=\"Detailed job description.\")\n",
    "    responsibilities: List[str] = Field(description=\"List of job responsibilities.\")\n",
    "    benefits: Optional[List[str]] = Field(description=\"List of job benefits.\")\n",
    "    employment_type: Optional[str] = Field(description=\"Type of employment (e.g., full-time, part-time).\")\n",
    "    posted_date: Optional[str] = Field(description=\"Date when the job was posted.\")\n",
    "\n",
    "    @classmethod\n",
    "    def mock(cls):\n",
    "        return cls(\n",
    "            title='Software Engineer',\n",
    "            company='Tech Corp',\n",
    "            location='San Francisco, CA',\n",
    "            salary='$100,000 - $120,000',\n",
    "            description='We are looking for a skilled Software Engineer to join our team.',\n",
    "            requirements=[\n",
    "                'Bachelor\\'s degree in Computer Science or related field',\n",
    "                '3+ years of experience in software development',\n",
    "                'Proficiency in Python and JavaScript',\n",
    "                'Experience with Django and React',\n",
    "                'Strong problem-solving skills'\n",
    "            ],\n",
    "            responsibilities=[\n",
    "                'Develop and maintain web applications',\n",
    "                'Collaborate with cross-functional teams',\n",
    "                'Write clean, scalable, and efficient code',\n",
    "                'Participate in code reviews',\n",
    "                'Troubleshoot and debug applications'\n",
    "            ],\n",
    "            benefits=[\n",
    "                'Health insurance',\n",
    "                '401(k) matching',\n",
    "                'Paid time off',\n",
    "                'Flexible working hours'\n",
    "            ],\n",
    "            employment_type='Full-time',\n",
    "            posted_date='2024-10-01'\n",
    "        )\n"
   ]
  },
  {
   "cell_type": "code",
   "execution_count": 6,
   "metadata": {
    "id": "TXbvvoYIE6Is"
   },
   "outputs": [],
   "source": [
    "###Tools\n",
    "from typing import Optional, Literal\n",
    "from langchain_core.tools import tool\n",
    "\n",
    "def process_job() -> Job:\n",
    "    \"\"\"Process job data.\"\"\"\n",
    "    job = Job.mock()\n",
    "    return job\n",
    "\n",
    "def process_resume() -> Resume:\n",
    "    \"\"\"Process resume data.\"\"\"\n",
    "    resume = Resume.mock()\n",
    "    return resume\n",
    "\n",
    "@tool\n",
    "def get_job(field: Optional[Literal['title', 'company', 'location', 'salary', 'description', 'responsibilities', 'benefits', 'employment_type', 'posted_date']] = None) -> str:\n",
    "    \"\"\"Get job data.\"\"\"\n",
    "    job = process_job()\n",
    "    if field:\n",
    "        return getattr(job, field)\n",
    "    return job.dict()\n",
    "\n",
    "@tool\n",
    "def get_resume(field: Optional[Literal['name', 'professional_summary', 'work_experience', 'education', 'skills']] = None) -> str:\n",
    "    \"\"\"Get resume data.\"\"\"\n",
    "    resume = process_resume()\n",
    "    if field:\n",
    "        return getattr(resume, field)\n",
    "    return resume.dict()"
   ]
  },
  {
   "cell_type": "code",
   "execution_count": 7,
   "metadata": {
    "id": "J4wmGPO4Fcvx"
   },
   "outputs": [],
   "source": [
    "##Building the Graph\n",
    "import os\n",
    "from dotenv import load_dotenv\n",
    "\n",
    "from typing import Annotated, Literal\n",
    "from typing_extensions import TypedDict\n",
    "from langgraph.prebuilt import ToolNode\n",
    "from langchain_core.messages import HumanMessage\n",
    "from langgraph.graph import StateGraph, MessagesState, START, END\n",
    "from langgraph.checkpoint.memory import MemorySaver\n",
    "from langchain_openai import ChatOpenAI"
   ]
  },
  {
   "cell_type": "code",
   "execution_count": 10,
   "metadata": {
    "id": "h-FVbvX6FnbP"
   },
   "outputs": [],
   "source": [
    "tools = [get_job, get_resume]\n",
    "llm = ChatOpenAI(\n",
    "    model_name=chat_model,\n",
    "    api_key=api_key\n",
    ").bind_tools(tools)"
   ]
  },
  {
   "cell_type": "code",
   "execution_count": 11,
   "metadata": {
    "id": "Y7Gv2udMF36N"
   },
   "outputs": [],
   "source": [
    "##Creating our nodes\n",
    "def expert(state: MessagesState):\n",
    "    system_message = \"\"\"\n",
    "        You are a resume expert. You are tasked with improving the user resume based on a job description.\n",
    "        You can access the resume and job data using the provided tools.\n",
    "\n",
    "        You must NEVER provide information that the user does not have.\n",
    "        These include, skills or experiences that are not in the resume. Do not make things up.\n",
    "    \"\"\"\n",
    "    messages = state[\"messages\"]\n",
    "    response = llm.invoke([system_message] + messages)\n",
    "    return {\"messages\": [response]}\n",
    "\n",
    "tool_node = ToolNode(tools)"
   ]
  },
  {
   "cell_type": "code",
   "execution_count": 12,
   "metadata": {
    "id": "SBB9zKufF_Bg"
   },
   "outputs": [],
   "source": [
    "def should_continue(state: MessagesState) -> Literal[\"tools\", END]:\n",
    "    messages = state['messages']\n",
    "    last_message = messages[-1]\n",
    "    if last_message.tool_calls:\n",
    "        return \"tools\"\n",
    "    return END"
   ]
  },
  {
   "cell_type": "code",
   "execution_count": 14,
   "metadata": {
    "colab": {
     "base_uri": "https://localhost:8080/"
    },
    "executionInfo": {
     "elapsed": 12,
     "status": "ok",
     "timestamp": 1740822312016,
     "user": {
      "displayName": "srinivas k",
      "userId": "08764004841069848509"
     },
     "user_tz": -330
    },
    "id": "d3GdBTRHGDcD",
    "outputId": "77702510-dcdf-4a80-e271-06110b5337d7"
   },
   "outputs": [
    {
     "data": {
      "text/plain": [
       "<langgraph.graph.state.StateGraph at 0x10cb07080>"
      ]
     },
     "execution_count": 14,
     "metadata": {},
     "output_type": "execute_result"
    }
   ],
   "source": [
    "graph = StateGraph(MessagesState)\n",
    "\n",
    "graph.add_node(\"expert\", expert)\n",
    "graph.add_node(\"tools\", tool_node)\n",
    "\n",
    "graph.add_edge(START, \"expert\")\n",
    "graph.add_conditional_edges(\"expert\", should_continue)\n",
    "graph.add_edge(\"tools\", \"expert\")"
   ]
  },
  {
   "cell_type": "code",
   "execution_count": 15,
   "metadata": {
    "id": "S09zajnlGIW4"
   },
   "outputs": [],
   "source": [
    "#Checkpointing and Compiling the Graph\n",
    "checkpointer = MemorySaver()\n",
    "app = graph.compile(checkpointer=checkpointer)"
   ]
  },
  {
   "cell_type": "code",
   "execution_count": null,
   "metadata": {
    "colab": {
     "base_uri": "https://localhost:8080/"
    },
    "id": "_z7WBQdBGRYm",
    "outputId": "3bc1a268-909c-45c2-b9bb-8b447a4d60a5"
   },
   "outputs": [],
   "source": [
    "while True:\n",
    "    user_input = input(\">> \")\n",
    "    if user_input.lower() in [\"quit\", \"exit\"]:\n",
    "        print(\"Exiting...\")\n",
    "        break\n",
    "\n",
    "    response = app.invoke(\n",
    "        {\"messages\": [HumanMessage(content=user_input)]},\n",
    "        config={\"configurable\": {\"thread_id\": 1}}\n",
    "    )\n",
    "\n",
    "    print(response[\"messages\"][-1].content)"
   ]
  }
 ],
 "metadata": {
  "colab": {
   "authorship_tag": "ABX9TyMZ+7YJ3bK39f9Xup8ruxjr",
   "mount_file_id": "1MmXORfFB_AJaeWGZRn4DzGtWjeg3ystl",
   "provenance": []
  },
  "kernelspec": {
   "display_name": "code",
   "language": "python",
   "name": "python3"
  },
  "language_info": {
   "codemirror_mode": {
    "name": "ipython",
    "version": 3
   },
   "file_extension": ".py",
   "mimetype": "text/x-python",
   "name": "python",
   "nbconvert_exporter": "python",
   "pygments_lexer": "ipython3",
   "version": "3.12.9"
  }
 },
 "nbformat": 4,
 "nbformat_minor": 0
}
